{
 "cells": [
  {
   "cell_type": "code",
   "execution_count": 1,
   "id": "f025749d-5c47-45bf-8dac-29c473dc11c2",
   "metadata": {},
   "outputs": [],
   "source": [
    "import numpy as np\n",
    "import os"
   ]
  },
  {
   "cell_type": "code",
   "execution_count": 2,
   "id": "131a7fb9-eb35-441d-8e1b-5b85615f840f",
   "metadata": {},
   "outputs": [
    {
     "name": "stdout",
     "output_type": "stream",
     "text": [
      "Making ski files for galaxy TNG000008\n",
      "Making ski files for galaxy TNG198183\n"
     ]
    }
   ],
   "source": [
    "file = np.loadtxt('NewGalaxyCatalogue.txt')\n",
    "subhalo_ids = file[:,0].astype(int)\n",
    "rhalfs = file[:,5]\n",
    "\n",
    "for subhalo_id, rhalf in zip(subhalo_ids, rhalfs):\n",
    "    \n",
    "    if (subhalo_id<10): modname = 'TNG00000' + str(subhalo_id)\n",
    "    elif (subhalo_id<100): modname = 'TNG0000' + str(subhalo_id)\n",
    "    elif (subhalo_id<1000): modname = 'TNG000' + str(subhalo_id)\n",
    "    elif (subhalo_id<10000): modname = 'TNG00' + str(subhalo_id)\n",
    "    elif (subhalo_id<100000): modname = 'TNG0' + str(subhalo_id)\n",
    "    else: modname = 'TNG' + str(subhalo_id)\n",
    "\n",
    "    print('Making ski files for galaxy', modname)\n",
    "    skifile = \"template.ski\"\n",
    "    with open(skifile, 'r') as f:\n",
    "        filedata = f.read()\n",
    "\n",
    "    # Determine the aperture for the dust grid. We take 10 times the stellar half-mass radius, with a maximum value of 100 kpc.\n",
    "    aperture = min(10*rhalf,100)\n",
    "    \n",
    "    # Set the correct data files\n",
    "    filedata = filedata.replace('\"stars.txt\"', '\"' + modname +'_stars.txt\"')\n",
    "    filedata = filedata.replace('\"sfrs.txt\"'  , '\"'+ modname +'_sfrs.txt\"')\n",
    "    filedata = filedata.replace('\"gas.txt\"' , '\"' + modname +'_gas.txt\"')\n",
    "\n",
    "    # Set the boundaries of the input Voronoi grid and the output octree grid\n",
    "    filedata = filedata.replace('minX=\"-xmax pc\"', 'minX=\"-' + str(aperture) + ' kpc\"')\n",
    "    filedata = filedata.replace('maxX=\"xmax pc\"' , 'maxX=\"'  + str(aperture) + ' kpc\"')\n",
    "    filedata = filedata.replace('minY=\"-ymax pc\"', 'minY=\"-' + str(aperture) + ' kpc\"')\n",
    "    filedata = filedata.replace('maxY=\"ymax pc\"' , 'maxY=\"'  + str(aperture) + ' kpc\"')\n",
    "    filedata = filedata.replace('minZ=\"-zmax pc\"', 'minZ=\"-' + str(aperture) + ' kpc\"')\n",
    "    filedata = filedata.replace('maxZ=\"zmax pc\"' , 'maxZ=\"'  + str(aperture) + ' kpc\"')\n",
    "\n",
    "    # Write the final ski file\n",
    "    with open(modname + '.ski', 'w') as f:\n",
    "        f.write(filedata)"
   ]
  }
 ],
 "metadata": {
  "kernelspec": {
   "display_name": "Python 3 (ipykernel)",
   "language": "python",
   "name": "python3"
  },
  "language_info": {
   "codemirror_mode": {
    "name": "ipython",
    "version": 3
   },
   "file_extension": ".py",
   "mimetype": "text/x-python",
   "name": "python",
   "nbconvert_exporter": "python",
   "pygments_lexer": "ipython3",
   "version": "3.11.5"
  }
 },
 "nbformat": 4,
 "nbformat_minor": 5
}
